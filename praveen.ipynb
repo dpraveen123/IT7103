{
  "nbformat": 4,
  "nbformat_minor": 0,
  "metadata": {
    "colab": {
      "provenance": [],
      "authorship_tag": "ABX9TyNO4i0f+TJUfGO6P0SsWfOF",
      "include_colab_link": true
    },
    "kernelspec": {
      "name": "python3",
      "display_name": "Python 3"
    },
    "language_info": {
      "name": "python"
    }
  },
  "cells": [
    {
      "cell_type": "markdown",
      "metadata": {
        "id": "view-in-github",
        "colab_type": "text"
      },
      "source": [
        "<a href=\"https://colab.research.google.com/github/dpraveen123/IT7103/blob/main/praveen.ipynb\" target=\"_parent\"><img src=\"https://colab.research.google.com/assets/colab-badge.svg\" alt=\"Open In Colab\"/></a>"
      ]
    },
    {
      "cell_type": "code",
      "execution_count": null,
      "metadata": {
        "id": "3U8RaUQ9ODgi"
      },
      "outputs": [],
      "source": []
    },
    {
      "cell_type": "code",
      "source": [
        "from google.colab import drive\n",
        "import pandas as pd\n",
        "import matplotlib.pyplot as plt\n",
        "\n",
        "drive.mount(\"/content/gdrive\")\n",
        "\n",
        "df = pd.read_csv('/content/gdrive/MyDrive/Colab Notebooks/auto-mpg.csv')\n",
        "print(df.dtypes)"
      ],
      "metadata": {
        "colab": {
          "base_uri": "https://localhost:8080/"
        },
        "id": "MYiJ8ttn5-RS",
        "outputId": "2b1837ed-45b1-4397-dac9-ca2d75147483"
      },
      "execution_count": 1,
      "outputs": [
        {
          "output_type": "stream",
          "name": "stdout",
          "text": [
            "Mounted at /content/gdrive\n",
            "mpg             float64\n",
            "cylinders         int64\n",
            "displacement    float64\n",
            "horsepower      float64\n",
            "weight            int64\n",
            "acceleration    float64\n",
            "model year        int64\n",
            "origin            int64\n",
            "car name         object\n",
            "dtype: object\n"
          ]
        }
      ]
    },
    {
      "cell_type": "markdown",
      "source": [
        "# Praveen Durvesula\n",
        "# Subject Code - IT 7103"
      ],
      "metadata": {
        "id": "E7gY9gazOPIl"
      }
    },
    {
      "cell_type": "code",
      "source": [
        "import pandas as pd\n",
        "import numpy as np\n",
        "from sklearn.model_selection import train_test_split\n",
        "from sklearn.compose import ColumnTransformer\n",
        "from sklearn.pipeline import Pipeline\n",
        "from sklearn.impute import SimpleImputer\n",
        "from sklearn.preprocessing import StandardScaler, FunctionTransformer, OneHotEncoder\n",
        "from scipy.stats import skew\n",
        "from google.colab import drive\n",
        "import matplotlib.pyplot as plt\n",
        "\n",
        "# 1. Load the data into a Pandas DataFrame and check data\n",
        "drive.mount(\"/content/gdrive\")\n",
        "\n",
        "df = pd.read_csv('/content/gdrive/MyDrive/Colab Notebooks/auto-mpg.csv')\n",
        "\n",
        "# df = pd.read_csv('auto-mpg.csv')\n",
        "\n",
        "# Check data types\n",
        "print(df.dtypes)\n",
        "\n",
        "# 2. Split the data into training and testing sets (75% training, 25% testing)\n",
        "\n",
        "# Create a histogram to visualize the distribution\n",
        "\n",
        "# plt.hist(data['acceleration'], bins=100, density=True, alpha=0.6, color='b')\n",
        "\n",
        "# # Add labels and a title\n",
        "# plt.xlabel('Value')\n",
        "# plt.ylabel('Probability Density')\n",
        "# plt.title('Symmetric Distribution from CSV Data')\n",
        "\n",
        "Feature = df.drop(columns=['mpg'])  # Features\n",
        "Target = df['mpg']  # Target variable\n",
        "\n",
        "Feature_train, Feature_test, Target_train, Target_test = train_test_split(Feature, Target, test_size=0.25, random_state=42)\n",
        "\n",
        "# 3. Visualize and categorize columns\n",
        "\n",
        "# The skewness values you've calculated using the .skew() method provide insights into the distribution of each numeric column in your dataset.\n",
        "# Positive skewness indicates a right-skewed distribution, while negative skewness indicates a left-skewed distribution.\n",
        "# Here's how to interpret and categorize these columns:\n",
        "\n",
        "print(df['cylinders'].skew(),df['displacement'].skew(),df['horsepower'].skew(),df['weight'].skew(),df['acceleration'].skew(),df['model year'].skew(),df['origin'].skew())\n",
        "\n",
        "numeric_symmetric_cols = ['cylinders', 'weight', 'acceleration','model year']\n",
        "numeric_skewed_cols = ['displacement', 'horsepower', 'origin']\n",
        "categorical_cols = ['car name']\n",
        "\n",
        "# 4. Build a pipeline\n",
        "numeric_symmetric_transformer = Pipeline(steps=[\n",
        "    ('imputer', SimpleImputer(strategy='median')),\n",
        "    ('scaler', StandardScaler())\n",
        "])\n",
        "\n",
        "\n",
        "numeric_skewed_transformer = Pipeline(steps=[\n",
        "    ('imputer', SimpleImputer(strategy='median')),\n",
        "    ('log_transform', FunctionTransformer(np.log1p, validate=False)),\n",
        "    ('scaler', StandardScaler())\n",
        "])\n",
        "\n",
        "categorical_transformer = Pipeline(steps=[\n",
        "    ('onehot', OneHotEncoder(handle_unknown='ignore'))\n",
        "])\n",
        "\n",
        "preprocessor = ColumnTransformer(\n",
        "    transformers=[\n",
        "        ('num_symmetric', numeric_symmetric_transformer, numeric_symmetric_cols),\n",
        "        ('num_skewed', numeric_skewed_transformer, numeric_skewed_cols),\n",
        "        ('cat', categorical_transformer, categorical_cols)\n",
        "    ])\n",
        "\n",
        "pipeline = Pipeline(steps=[('preprocessor', preprocessor)])\n",
        "\n",
        "# 5. Train the pipeline on the training data and perform transformations\n",
        "Feature_train_processed = pipeline.fit_transform(Feature_train)\n",
        "Feature_test_processed = pipeline.transform(Feature_test)\n",
        "\n",
        "# 6. Print the shape of the processed data\n",
        "print(\"Shape of processed training data:\", Feature_train_processed.shape)\n",
        "print(\"Shape of processed testing data:\", Feature_test_processed.shape)\n"
      ],
      "metadata": {
        "colab": {
          "base_uri": "https://localhost:8080/"
        },
        "id": "C1yuhBNN-5HX",
        "outputId": "49f1ce09-3849-4625-cca3-83ee4abad0a6"
      },
      "execution_count": 2,
      "outputs": [
        {
          "output_type": "stream",
          "name": "stdout",
          "text": [
            "Drive already mounted at /content/gdrive; to attempt to forcibly remount, call drive.mount(\"/content/gdrive\", force_remount=True).\n",
            "mpg             float64\n",
            "cylinders         int64\n",
            "displacement    float64\n",
            "horsepower      float64\n",
            "weight            int64\n",
            "acceleration    float64\n",
            "model year        int64\n",
            "origin            int64\n",
            "car name         object\n",
            "dtype: object\n",
            "0.5269215453528939 0.7196451643005952 1.0873262824048695 0.5310625125994629 0.27877684462588986 0.01153459401509278 0.9237762994760227\n",
            "Shape of processed training data: (298, 239)\n",
            "Shape of processed testing data: (100, 239)\n"
          ]
        }
      ]
    }
  ]
}